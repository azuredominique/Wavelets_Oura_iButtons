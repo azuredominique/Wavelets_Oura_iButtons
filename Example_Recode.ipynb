{
 "cells": [
  {
   "cell_type": "markdown",
   "metadata": {},
   "source": [
    "### Can you translate a hard-coded approach to something utilizing loops efficiently in python?\n",
    "-- translate a snippet of code -- objective: think more like an engineer"
   ]
  },
  {
   "cell_type": "code",
   "execution_count": 1,
   "metadata": {},
   "outputs": [],
   "source": [
    "import numpy as np"
   ]
  },
  {
   "cell_type": "code",
   "execution_count": 9,
   "metadata": {},
   "outputs": [
    {
     "name": "stdout",
     "output_type": "stream",
     "text": [
      "URPROJ (11, 1) = movmean(iWT(:, 1:39, 1440;))\n",
      "URPROJ (11, 2) = movmean(iWT(:, 39:98, 1440;))\n",
      "URPROJ (11, 3) = movmean(iWT(:, 98:132, 1440;))\n",
      "URPROJ (11, 4) = movmean(iWT(:, 132:156, 1440;))\n",
      "URPROJ (11, 5) = movmean(iWT(:, 156:175, 1440;))\n",
      "URPROJ (11, 6) = movmean(iWT(:, 175:191, 1440;))\n",
      "URPROJ (11, 7) = movmean(iWT(:, 191:204, 1440;))\n",
      "URPROJ (11, 8) = movmean(iWT(:, 204:215, 1440;))\n",
      "URPROJ (11, 9) = movmean(iWT(:, 215:225, 1440;))\n",
      "URPROJ (11, 10) = movmean(iWT(:, 225:234, 1440;))\n",
      "URPROJ (11, 11) = movmean(iWT(:, 234:242, 1440;))\n",
      "URPROJ (11, 12) = movmean(iWT(:, 242:250, 1440;))\n"
     ]
    }
   ],
   "source": [
    "band_starts = [1, 39, 98, 132, 156, 175, 191, 204, 215, 225, 234, 242, 250]\n",
    "sampling_rate = 1440\n",
    "for i in range(len(band_starts)-1):\n",
    "    print (f\"URPROJ (11, {i+1}) = movmean(iWT(:, {band_starts[i]}:{band_starts[i+1]}, {sampling_rate};))\")\n",
    "    "
   ]
  },
  {
   "cell_type": "code",
   "execution_count": null,
   "metadata": {},
   "outputs": [],
   "source": [
    "%Excerpting desired wavelet bands\n",
    "\n",
    "clear URProj\n",
    "%This divides the wavelet matrix iWT into its hour component bands from\n",
    "%1-12 (spanning physiologically common UR possibilities) and 23-25 h\n",
    "%(Circadian band)\n",
    "URProj{11,1}= movmean(iWT(:,1:39),1440); %1 h\n",
    "URProj{11,2}=movmean(iWT(:,39:98),1440); %2 h\n",
    "URProj{11,3}=movmean(iWT(:,98:132),1440); %3 h\n",
    "URProj{11,4}=movmean(iWT(:,132:156),1440); %4 h\n",
    "URProj{11,5}=movmean(iWT(:,156:175),1440); %5 h\n",
    "URProj{11,6}=movmean(iWT(:,175:191),1440); %6 h\n",
    "URProj{11,7}=movmean(iWT(:,191:204),1440); %7 h\n",
    "URProj{11,8}=movmean(iWT(:,204:215),1440); %7 h\n",
    "URProj{11,9}=movmean(iWT(:,215:225),1440); %9 h\n",
    "URProj{11,10}=movmean(iWT(:,225:234),1440); %10 h\n",
    "URProj{11,11}=movmean(iWT(:,234:242),1440); %11 h\n",
    "URProj{11,12}=movmean(iWT(:,242:250),1440); %12 h\n",
    "CircadianProj{1,1}=movmean(iWT(:,330:339),500); %Vary this"
   ]
  }
 ],
 "metadata": {
  "kernelspec": {
   "display_name": "Python 3",
   "language": "python",
   "name": "python3"
  },
  "language_info": {
   "codemirror_mode": {
    "name": "ipython",
    "version": 3
   },
   "file_extension": ".py",
   "mimetype": "text/x-python",
   "name": "python",
   "nbconvert_exporter": "python",
   "pygments_lexer": "ipython3",
   "version": "3.7.6"
  }
 },
 "nbformat": 4,
 "nbformat_minor": 4
}
